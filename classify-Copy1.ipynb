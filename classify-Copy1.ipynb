{
 "cells": [
  {
   "cell_type": "code",
   "execution_count": 1,
   "metadata": {},
   "outputs": [
    {
     "name": "stderr",
     "output_type": "stream",
     "text": [
      "/usr/local/lib/python2.7/dist-packages/h5py/__init__.py:36: FutureWarning: Conversion of the second argument of issubdtype from `float` to `np.floating` is deprecated. In future, it will be treated as `np.float64 == np.dtype(float).type`.\n",
      "  from ._conv import register_converters as _register_converters\n",
      "Using TensorFlow backend.\n"
     ]
    }
   ],
   "source": [
    "import sys, glob, os\n",
    "sys.path.extend(glob.glob(os.path.join(os.path.expanduser(\"~\"), \".ivy2/jars/*.jar\")))\n",
    "from sparkdl import readImages\n",
    "from pyspark.sql.functions import lit\n",
    "sc.setCheckpointDir(\"hdfs:///checkpoints\")"
   ]
  },
  {
   "cell_type": "code",
   "execution_count": 2,
   "metadata": {},
   "outputs": [
    {
     "name": "stdout",
     "output_type": "stream",
     "text": [
      "DATA READ.\n",
      "DATA SPLITTED.\n",
      "TRAIN DF PREPARED.\n",
      "TEST DF PREPARED.\n"
     ]
    }
   ],
   "source": [
    "img_dir = \"hdfs:///flower-classify/flowers\"\n",
    "\n",
    "#Read images and Create training & test DataFrames for transfer learning\n",
    "daisy_df = readImages(img_dir + \"/daisy\").withColumn(\"label\", lit(0))\n",
    "dandelion_df = readImages(img_dir + \"/dandelion\").withColumn(\"label\", lit(1))\n",
    "roses_df = readImages(img_dir + \"/roses\").withColumn(\"label\", lit(2))\n",
    "sunflowers_df = readImages(img_dir + \"/sunflowers\").withColumn(\"label\", lit(3))\n",
    "tulips_df = readImages(img_dir + \"/tulips\").withColumn(\"label\", lit(4))\n",
    "print(\"DATA READ.\")\n",
    "\n",
    "daisy_train, daisy_test = daisy_df.randomSplit([0.6, 0.4])\n",
    "dandelion_train, dandelion_test = dandelion_df.randomSplit([0.6, 0.4])\n",
    "roses_train, roses_test = roses_df.randomSplit([0.6, 0.4])\n",
    "sunflowers_train, sunflowers_test = sunflowers_df.randomSplit([0.6, 0.4])\n",
    "tulips_train, tulips_test = tulips_df.randomSplit([0.6, 0.4])\n",
    "print(\"DATA SPLITTED.\")\n",
    "\n",
    "#dataframe for training a classification model\n",
    "train_df = daisy_train.unionAll(dandelion_train).unionAll(roses_train).unionAll(sunflowers_train).unionAll(tulips_train)\n",
    "train_df = train_df.unionAll(train_df).unionAll(train_df).unionAll(train_df)\n",
    "print(\"TRAIN DF PREPARED.\")\n",
    "\n",
    "#dataframe for testing the classification model\n",
    "test_df = daisy_test.unionAll(dandelion_test).unionAll(roses_test).unionAll(sunflowers_test).unionAll(tulips_test)\n",
    "test_df = test_df.unionAll(test_df).unionAll(test_df).unionAll(test_df)\n",
    "print(\"TEST DF PREPARED.\")"
   ]
  },
  {
   "cell_type": "code",
   "execution_count": 3,
   "metadata": {},
   "outputs": [
    {
     "name": "stdout",
     "output_type": "stream",
     "text": [
      "INFO:tensorflow:Froze 376 variables.\n",
      "Converted 376 variables to const ops.\n",
      "INFO:tensorflow:Froze 0 variables.\n",
      "Converted 0 variables to const ops.\n"
     ]
    }
   ],
   "source": [
    "from pyspark.ml.classification import LogisticRegression\n",
    "from pyspark.ml import Pipeline\n",
    "from sparkdl import DeepImageFeaturizer\n",
    "\n",
    "featurizer = DeepImageFeaturizer(inputCol=\"image\", outputCol=\"features\", modelName=\"InceptionV3\")\n",
    "lr = LogisticRegression(maxIter=5, regParam=0.05, elasticNetParam=0.3, labelCol=\"label\")\n",
    "p = Pipeline(stages=[featurizer, lr])\n",
    "p_model = p.fit(train_df)"
   ]
  },
  {
   "cell_type": "code",
   "execution_count": null,
   "metadata": {},
   "outputs": [
    {
     "name": "stdout",
     "output_type": "stream",
     "text": [
      "INFO:tensorflow:Froze 376 variables.\n",
      "Converted 376 variables to const ops.\n",
      "INFO:tensorflow:Froze 0 variables.\n",
      "Converted 0 variables to const ops.\n",
      "+--------------------+--------------------+-----+--------------------+--------------------+--------------------+----------+\n",
      "|            filePath|               image|label|            features|       rawPrediction|         probability|prediction|\n",
      "+--------------------+--------------------+-----+--------------------+--------------------+--------------------+----------+\n",
      "|hdfs://student11:...|[RGB,213,320,3,[B...|    0|[0.0,0.2265879362...|[3.22473416994611...|[0.90253882286108...|       0.0|\n",
      "|hdfs://student11:...|[RGB,333,500,3,[B...|    0|[0.0,0.0,0.0,0.45...|[2.24914970970508...|[0.72317374159744...|       0.0|\n",
      "|hdfs://student11:...|[RGB,240,240,3,[B...|    0|[0.0,0.0,0.124899...|[2.25798888151002...|[0.73675046669674...|       0.0|\n",
      "|hdfs://student11:...|[RGB,333,500,3,[B...|    0|[0.0,0.1696849465...|[3.09325043808096...|[0.88068145482117...|       0.0|\n",
      "|hdfs://student11:...|[RGB,224,320,3,[B...|    0|[0.0,0.0,0.0,0.0,...|[2.73628038115244...|[0.82774255771716...|       0.0|\n",
      "|hdfs://student11:...|[RGB,236,320,3,[B...|    0|[0.0,0.0,0.0,0.0,...|[3.06878636789006...|[0.87291294048080...|       0.0|\n",
      "|hdfs://student11:...|[RGB,291,500,3,[B...|    0|[1.88975703716278...|[2.32739456482015...|[0.71513709292876...|       0.0|\n",
      "|hdfs://student11:...|[RGB,213,320,3,[B...|    0|[0.0,0.0,0.430410...|[2.53331945861833...|[0.78481345478374...|       0.0|\n",
      "|hdfs://student11:...|[RGB,240,320,3,[B...|    0|[0.0,0.0832374691...|[2.21635139648665...|[0.70962252610226...|       0.0|\n",
      "|hdfs://student11:...|[RGB,240,192,3,[B...|    0|[0.0,0.0,0.029104...|[1.82311957666078...|[0.62782374993337...|       0.0|\n",
      "|hdfs://student11:...|[RGB,240,231,3,[B...|    0|[0.0,0.7963477373...|[3.00069843615587...|[0.86754929114775...|       0.0|\n",
      "|hdfs://student11:...|[RGB,240,230,3,[B...|    0|[0.0,0.0,0.0,0.0,...|[3.23131423839999...|[0.89971952572639...|       0.0|\n",
      "|hdfs://student11:...|[RGB,232,320,3,[B...|    0|[0.0,0.0,0.0,0.0,...|[2.91105443566944...|[0.84187139139289...|       0.0|\n",
      "|hdfs://student11:...|[RGB,240,320,3,[B...|    0|[0.0,0.7405395507...|[1.79642514392110...|[0.58721096523450...|       0.0|\n",
      "|hdfs://student11:...|[RGB,213,320,3,[B...|    0|[0.71619170904159...|[0.93174794143921...|[0.37218381605934...|       0.0|\n",
      "|hdfs://student11:...|[RGB,240,240,3,[B...|    0|[0.0,0.0,0.0,0.0,...|[2.65166680673673...|[0.81656865011830...|       0.0|\n",
      "|hdfs://student11:...|[RGB,213,320,3,[B...|    0|[0.0,0.0,0.0,0.0,...|[-0.0127539607269...|[0.14073571258478...|       3.0|\n",
      "|hdfs://student11:...|[RGB,240,159,3,[B...|    0|[0.0,0.0,0.108197...|[2.07334845443143...|[0.69734284125729...|       0.0|\n",
      "|hdfs://student11:...|[RGB,213,320,3,[B...|    0|[0.0,0.0,0.913850...|[2.46419908350674...|[0.75952323041093...|       0.0|\n",
      "|hdfs://student11:...|[RGB,333,500,3,[B...|    0|[0.0,0.4700489342...|[2.43212841502696...|[0.77833705287585...|       0.0|\n",
      "+--------------------+--------------------+-----+--------------------+--------------------+--------------------+----------+\n",
      "only showing top 20 rows\n",
      "\n"
     ]
    }
   ],
   "source": [
    "from pyspark.ml.evaluation import MulticlassClassificationEvaluator\n",
    "\n",
    "df = p_model.transform(test_df)\n",
    "df.show()\n",
    "predictionAndLabels = df.select(\"prediction\", \"label\")\n",
    "evaluator = MulticlassClassificationEvaluator(metricName=\"accuracy\")\n",
    "print(\"Training set accuracy = \" + str(evaluator.evaluate(predictionAndLabels)))"
   ]
  },
  {
   "cell_type": "code",
   "execution_count": 5,
   "metadata": {
    "scrolled": false
   },
   "outputs": [
    {
     "ename": "KeyboardInterrupt",
     "evalue": "",
     "output_type": "error",
     "traceback": [
      "\u001b[0;31m\u001b[0m",
      "\u001b[0;31mKeyboardInterrupt\u001b[0mTraceback (most recent call last)",
      "\u001b[0;32m<ipython-input-5-f76f2e54a92d>\u001b[0m in \u001b[0;36m<module>\u001b[0;34m()\u001b[0m\n\u001b[0;32m----> 1\u001b[0;31m \u001b[0mpandas_df\u001b[0m \u001b[0;34m=\u001b[0m \u001b[0mdf\u001b[0m\u001b[0;34m.\u001b[0m\u001b[0mtoPandas\u001b[0m\u001b[0;34m(\u001b[0m\u001b[0;34m)\u001b[0m\u001b[0;34m\u001b[0m\u001b[0m\n\u001b[0m",
      "\u001b[0;32m/opt/spark-2.2.1-bin-hadoop2.7/python/pyspark/sql/dataframe.pyc\u001b[0m in \u001b[0;36mtoPandas\u001b[0;34m(self)\u001b[0m\n\u001b[1;32m   1701\u001b[0m         \"\"\"\n\u001b[1;32m   1702\u001b[0m         \u001b[0;32mimport\u001b[0m \u001b[0mpandas\u001b[0m \u001b[0;32mas\u001b[0m \u001b[0mpd\u001b[0m\u001b[0;34m\u001b[0m\u001b[0m\n\u001b[0;32m-> 1703\u001b[0;31m         \u001b[0;32mreturn\u001b[0m \u001b[0mpd\u001b[0m\u001b[0;34m.\u001b[0m\u001b[0mDataFrame\u001b[0m\u001b[0;34m.\u001b[0m\u001b[0mfrom_records\u001b[0m\u001b[0;34m(\u001b[0m\u001b[0mself\u001b[0m\u001b[0;34m.\u001b[0m\u001b[0mcollect\u001b[0m\u001b[0;34m(\u001b[0m\u001b[0;34m)\u001b[0m\u001b[0;34m,\u001b[0m \u001b[0mcolumns\u001b[0m\u001b[0;34m=\u001b[0m\u001b[0mself\u001b[0m\u001b[0;34m.\u001b[0m\u001b[0mcolumns\u001b[0m\u001b[0;34m)\u001b[0m\u001b[0;34m\u001b[0m\u001b[0m\n\u001b[0m\u001b[1;32m   1704\u001b[0m \u001b[0;34m\u001b[0m\u001b[0m\n\u001b[1;32m   1705\u001b[0m     \u001b[0;31m##########################################################################################\u001b[0m\u001b[0;34m\u001b[0m\u001b[0;34m\u001b[0m\u001b[0m\n",
      "\u001b[0;32m/opt/spark-2.2.1-bin-hadoop2.7/python/pyspark/sql/dataframe.pyc\u001b[0m in \u001b[0;36mcollect\u001b[0;34m(self)\u001b[0m\n\u001b[1;32m    437\u001b[0m         \u001b[0;32mwith\u001b[0m \u001b[0mSCCallSiteSync\u001b[0m\u001b[0;34m(\u001b[0m\u001b[0mself\u001b[0m\u001b[0;34m.\u001b[0m\u001b[0m_sc\u001b[0m\u001b[0;34m)\u001b[0m \u001b[0;32mas\u001b[0m \u001b[0mcss\u001b[0m\u001b[0;34m:\u001b[0m\u001b[0;34m\u001b[0m\u001b[0m\n\u001b[1;32m    438\u001b[0m             \u001b[0mport\u001b[0m \u001b[0;34m=\u001b[0m \u001b[0mself\u001b[0m\u001b[0;34m.\u001b[0m\u001b[0m_jdf\u001b[0m\u001b[0;34m.\u001b[0m\u001b[0mcollectToPython\u001b[0m\u001b[0;34m(\u001b[0m\u001b[0;34m)\u001b[0m\u001b[0;34m\u001b[0m\u001b[0m\n\u001b[0;32m--> 439\u001b[0;31m         \u001b[0;32mreturn\u001b[0m \u001b[0mlist\u001b[0m\u001b[0;34m(\u001b[0m\u001b[0m_load_from_socket\u001b[0m\u001b[0;34m(\u001b[0m\u001b[0mport\u001b[0m\u001b[0;34m,\u001b[0m \u001b[0mBatchedSerializer\u001b[0m\u001b[0;34m(\u001b[0m\u001b[0mPickleSerializer\u001b[0m\u001b[0;34m(\u001b[0m\u001b[0;34m)\u001b[0m\u001b[0;34m)\u001b[0m\u001b[0;34m)\u001b[0m\u001b[0;34m)\u001b[0m\u001b[0;34m\u001b[0m\u001b[0m\n\u001b[0m\u001b[1;32m    440\u001b[0m \u001b[0;34m\u001b[0m\u001b[0m\n\u001b[1;32m    441\u001b[0m     \u001b[0;34m@\u001b[0m\u001b[0mignore_unicode_prefix\u001b[0m\u001b[0;34m\u001b[0m\u001b[0m\n",
      "\u001b[0;32m/opt/spark-2.2.1-bin-hadoop2.7/python/pyspark/serializers.pyc\u001b[0m in \u001b[0;36mload_stream\u001b[0;34m(self, stream)\u001b[0m\n\u001b[1;32m    142\u001b[0m         \u001b[0;32mwhile\u001b[0m \u001b[0mTrue\u001b[0m\u001b[0;34m:\u001b[0m\u001b[0;34m\u001b[0m\u001b[0m\n\u001b[1;32m    143\u001b[0m             \u001b[0;32mtry\u001b[0m\u001b[0;34m:\u001b[0m\u001b[0;34m\u001b[0m\u001b[0m\n\u001b[0;32m--> 144\u001b[0;31m                 \u001b[0;32myield\u001b[0m \u001b[0mself\u001b[0m\u001b[0;34m.\u001b[0m\u001b[0m_read_with_length\u001b[0m\u001b[0;34m(\u001b[0m\u001b[0mstream\u001b[0m\u001b[0;34m)\u001b[0m\u001b[0;34m\u001b[0m\u001b[0m\n\u001b[0m\u001b[1;32m    145\u001b[0m             \u001b[0;32mexcept\u001b[0m \u001b[0mEOFError\u001b[0m\u001b[0;34m:\u001b[0m\u001b[0;34m\u001b[0m\u001b[0m\n\u001b[1;32m    146\u001b[0m                 \u001b[0;32mreturn\u001b[0m\u001b[0;34m\u001b[0m\u001b[0m\n",
      "\u001b[0;32m/opt/spark-2.2.1-bin-hadoop2.7/python/pyspark/serializers.pyc\u001b[0m in \u001b[0;36m_read_with_length\u001b[0;34m(self, stream)\u001b[0m\n\u001b[1;32m    159\u001b[0m \u001b[0;34m\u001b[0m\u001b[0m\n\u001b[1;32m    160\u001b[0m     \u001b[0;32mdef\u001b[0m \u001b[0m_read_with_length\u001b[0m\u001b[0;34m(\u001b[0m\u001b[0mself\u001b[0m\u001b[0;34m,\u001b[0m \u001b[0mstream\u001b[0m\u001b[0;34m)\u001b[0m\u001b[0;34m:\u001b[0m\u001b[0;34m\u001b[0m\u001b[0m\n\u001b[0;32m--> 161\u001b[0;31m         \u001b[0mlength\u001b[0m \u001b[0;34m=\u001b[0m \u001b[0mread_int\u001b[0m\u001b[0;34m(\u001b[0m\u001b[0mstream\u001b[0m\u001b[0;34m)\u001b[0m\u001b[0;34m\u001b[0m\u001b[0m\n\u001b[0m\u001b[1;32m    162\u001b[0m         \u001b[0;32mif\u001b[0m \u001b[0mlength\u001b[0m \u001b[0;34m==\u001b[0m \u001b[0mSpecialLengths\u001b[0m\u001b[0;34m.\u001b[0m\u001b[0mEND_OF_DATA_SECTION\u001b[0m\u001b[0;34m:\u001b[0m\u001b[0;34m\u001b[0m\u001b[0m\n\u001b[1;32m    163\u001b[0m             \u001b[0;32mraise\u001b[0m \u001b[0mEOFError\u001b[0m\u001b[0;34m\u001b[0m\u001b[0m\n",
      "\u001b[0;32m/opt/spark-2.2.1-bin-hadoop2.7/python/pyspark/serializers.pyc\u001b[0m in \u001b[0;36mread_int\u001b[0;34m(stream)\u001b[0m\n\u001b[1;32m    577\u001b[0m \u001b[0;34m\u001b[0m\u001b[0m\n\u001b[1;32m    578\u001b[0m \u001b[0;32mdef\u001b[0m \u001b[0mread_int\u001b[0m\u001b[0;34m(\u001b[0m\u001b[0mstream\u001b[0m\u001b[0;34m)\u001b[0m\u001b[0;34m:\u001b[0m\u001b[0;34m\u001b[0m\u001b[0m\n\u001b[0;32m--> 579\u001b[0;31m     \u001b[0mlength\u001b[0m \u001b[0;34m=\u001b[0m \u001b[0mstream\u001b[0m\u001b[0;34m.\u001b[0m\u001b[0mread\u001b[0m\u001b[0;34m(\u001b[0m\u001b[0;36m4\u001b[0m\u001b[0;34m)\u001b[0m\u001b[0;34m\u001b[0m\u001b[0m\n\u001b[0m\u001b[1;32m    580\u001b[0m     \u001b[0;32mif\u001b[0m \u001b[0;32mnot\u001b[0m \u001b[0mlength\u001b[0m\u001b[0;34m:\u001b[0m\u001b[0;34m\u001b[0m\u001b[0m\n\u001b[1;32m    581\u001b[0m         \u001b[0;32mraise\u001b[0m \u001b[0mEOFError\u001b[0m\u001b[0;34m\u001b[0m\u001b[0m\n",
      "\u001b[0;32m/usr/lib/python2.7/socket.pyc\u001b[0m in \u001b[0;36mread\u001b[0;34m(self, size)\u001b[0m\n\u001b[1;32m    382\u001b[0m                 \u001b[0;31m# fragmentation issues on many platforms.\u001b[0m\u001b[0;34m\u001b[0m\u001b[0;34m\u001b[0m\u001b[0m\n\u001b[1;32m    383\u001b[0m                 \u001b[0;32mtry\u001b[0m\u001b[0;34m:\u001b[0m\u001b[0;34m\u001b[0m\u001b[0m\n\u001b[0;32m--> 384\u001b[0;31m                     \u001b[0mdata\u001b[0m \u001b[0;34m=\u001b[0m \u001b[0mself\u001b[0m\u001b[0;34m.\u001b[0m\u001b[0m_sock\u001b[0m\u001b[0;34m.\u001b[0m\u001b[0mrecv\u001b[0m\u001b[0;34m(\u001b[0m\u001b[0mleft\u001b[0m\u001b[0;34m)\u001b[0m\u001b[0;34m\u001b[0m\u001b[0m\n\u001b[0m\u001b[1;32m    385\u001b[0m                 \u001b[0;32mexcept\u001b[0m \u001b[0merror\u001b[0m\u001b[0;34m,\u001b[0m \u001b[0me\u001b[0m\u001b[0;34m:\u001b[0m\u001b[0;34m\u001b[0m\u001b[0m\n\u001b[1;32m    386\u001b[0m                     \u001b[0;32mif\u001b[0m \u001b[0me\u001b[0m\u001b[0;34m.\u001b[0m\u001b[0margs\u001b[0m\u001b[0;34m[\u001b[0m\u001b[0;36m0\u001b[0m\u001b[0;34m]\u001b[0m \u001b[0;34m==\u001b[0m \u001b[0mEINTR\u001b[0m\u001b[0;34m:\u001b[0m\u001b[0;34m\u001b[0m\u001b[0m\n",
      "\u001b[0;31mKeyboardInterrupt\u001b[0m: "
     ]
    }
   ],
   "source": [
    "from IPython.display import Image\n",
    "from IPython.core.display import HTML \n",
    "image_URL = \"http://cdn2.stylecraze.com/wp-content/uploads/2013/11/Top-25-Most-Beautiful-Daisy-Flowers.jpg\"\n",
    "image_path = \"/home/hduser/image.jpg\"\n",
    "image_hdfs_path = \"hdfs:///flower-classify/tmp/image.jpg\"\n",
    "\n",
    "import urllib\n",
    "urllib.urlretrieve (image_URL, image_path)\n",
    "%%bash\n",
    "hdfs dfs -copyFromLocal -f /home/hduser/image.jpg /flower-classify/tmp/\n",
    "test_df = readImages(image_hdfs_path)\n",
    "predictions = p_model.transform(test_df)\n",
    "predictions.show()\n",
    "Image(filename = image_path, width=400, height=400)"
   ]
  },
  {
   "cell_type": "code",
   "execution_count": null,
   "metadata": {},
   "outputs": [],
   "source": [
    "# import pandas as pd\n",
    "# from pandas_ml import ConfusionMatrix\n",
    "# pandas_df = df.toPandas()\n",
    "# confusion_matrix = ConfusionMatrix(pandas_df.label, pandas_df.prediction)\n",
    "# #print('Training set accuracy: ' + str(confusion_matrix.stats()['overall']['Accuracy']))\n",
    "# #pandas_df[0:10]\n",
    "# import matplotlib.pyplot as plt\n",
    "# confusion_matrix.plot()\n",
    "# plt.show()\n",
    "# confusion_matrix.print_stats()"
   ]
  }
 ],
 "metadata": {
  "kernelspec": {
   "display_name": "Python 2",
   "language": "python",
   "name": "python2"
  },
  "language_info": {
   "codemirror_mode": {
    "name": "ipython",
    "version": 2
   },
   "file_extension": ".py",
   "mimetype": "text/x-python",
   "name": "python",
   "nbconvert_exporter": "python",
   "pygments_lexer": "ipython2",
   "version": "2.7.12"
  }
 },
 "nbformat": 4,
 "nbformat_minor": 2
}
